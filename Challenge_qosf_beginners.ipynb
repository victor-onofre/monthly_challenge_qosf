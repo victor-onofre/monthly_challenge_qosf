{
 "cells": [
  {
   "cell_type": "code",
   "execution_count": null,
   "id": "3eef262b-d0d3-4c97-b304-54716368c602",
   "metadata": {},
   "outputs": [],
   "source": [
    "import numpy as np"
   ]
  },
  {
   "cell_type": "markdown",
   "id": "5d589d26-8f7a-4c68-b6dc-d0f1d305ab60",
   "metadata": {},
   "source": [
    "A state in the Hilbert space $ H $ is entangled or non-separable if it cannot be written as a tensor product of the state $ | \\alpha>_{1} $ that belongs to $ H_{1} $ and the state $ | \\beta> 2 $ belonging to $ H 2 $. In contrast, if we can write \n",
    "\n",
    "$$|\\psi> = |\\alpha>_{1} \\otimes |\\beta>_{2} $$\n",
    "\n",
    "the state $|\\psi>$ is separable."
   ]
  },
  {
   "cell_type": "markdown",
   "id": "f74116b2-29e8-44cd-88a6-25fd833be948",
   "metadata": {},
   "source": [
    "For example, the satate $|\\psi_{1}>$ is entangled:\n",
    "\n",
    "$$|\\psi_{1}> = \\frac{1}{\\sqrt{2}}(|00> + |11> )$$\n",
    "\n",
    "The state $|\\psi_{2}>$ is separable (non-entangled):\n",
    "\n",
    "$$|\\psi_{2}> =  \\frac{1}{\\sqrt{2}}(|01> + |11> ) = \\frac{1}{\\sqrt{2}}(|0> + |1> ) \\otimes |1>  $$"
   ]
  },
  {
   "cell_type": "markdown",
   "id": "e578afa1-bfcb-4196-bd48-e9c856e672bd",
   "metadata": {},
   "source": [
    "<img src=\"bellpair_circuit.png\">"
   ]
  },
  {
   "cell_type": "markdown",
   "id": "f24d49b3-4dbd-4992-832b-e3ba7464067f",
   "metadata": {},
   "source": [
    "## Part I: Initial state and quantum gates"
   ]
  },
  {
   "cell_type": "markdown",
   "id": "55d5b2a5-f457-4468-966f-e03188938b2e",
   "metadata": {},
   "source": [
    "The initial state in the circuit is:\n",
    "\n",
    "$$|\\Psi_{0}> =  |0>_{0} |0>_{1} = |0>_{0} \\otimes |0>_{1} $$ \n",
    "\n",
    "$$|0> = \\begin{bmatrix} 1 \\cr 0  \\end{bmatrix}  \\qquad |1> = \\begin{bmatrix} 0  \\cr 1   \\end{bmatrix} $$"
   ]
  },
  {
   "cell_type": "markdown",
   "id": "7a668576-52bb-4775-90e5-2d0e1f9e6539",
   "metadata": {},
   "source": [
    "With NumPy define the vectors (kets) $|0>$ and $|1>$ and build the initial state $|\\Psi_{0}>$ (remeber that $\\otimes$ is the *[tensor product](https://en.wikipedia.org/wiki/Tensor_product)* ):"
   ]
  },
  {
   "cell_type": "code",
   "execution_count": null,
   "id": "0bb37180-04df-48ec-a2cb-581552a9eaca",
   "metadata": {},
   "outputs": [],
   "source": [
    "##################\n",
    "# YOUR CODE HERE #\n",
    "ket_0 = \n",
    "ket_1 = \n",
    "\n",
    "initial_state = \n",
    "##################"
   ]
  },
  {
   "cell_type": "markdown",
   "id": "0d72dc42-f39a-4fbb-bbba-d366b5103090",
   "metadata": {},
   "source": [
    "The effects of the hadamard gate $H$ (a $2 \\times 2$ matrix) over the vectors $|0>$ and $|1>$ are:\n",
    "\n",
    "$$H|0> = \\frac{1}{\\sqrt{2}} \\Big(|0> + |1> \\Big) \\quad  H|1> = \\frac{1}{\\sqrt{2}} \\Big(|0> - |1> \\Big)  $$\n",
    "\n",
    "And with the CNOT gate (a $4 \\times 4$ matrix):\n",
    "\n",
    "$$U_{f} | 0 0 > =  CNOT | 0 0 > = | 0 0 >  $$\n",
    "\n",
    "$$U_{f} | 0 1 > =  CNOT | 0 1> = | 0 1 >  $$\n",
    "\n",
    "$$U_{f} | 1 0 > =  CNOT |  1 0 > = | 1 1 >  $$\n",
    "\n",
    "$$U_{f} | 1 1 > =  CNOT | 1 1 > = | 1 0 >  $$\n",
    "\n",
    "With this information build the matrix representation of the hadamard and CNOT gate:"
   ]
  },
  {
   "cell_type": "code",
   "execution_count": null,
   "id": "57663d53-4c88-4919-be91-248f6b34eb84",
   "metadata": {},
   "outputs": [],
   "source": [
    "##################\n",
    "# YOUR CODE HERE #\n",
    "Hadamard = \n",
    "Cnot = \n",
    "##################"
   ]
  },
  {
   "cell_type": "markdown",
   "id": "bf56a890-8c2c-4dd5-b9e1-7b7efd86bc57",
   "metadata": {},
   "source": [
    "## Part II: Build the circuit"
   ]
  },
  {
   "cell_type": "markdown",
   "id": "cc28e41a-cbfb-456d-be6a-76dd9fa2e775",
   "metadata": {},
   "source": [
    "The hadamard gate is apply in the qubit $|0>_{0}$\n",
    "\n",
    "$$|\\Psi_{1}> = (H \\otimes I) |\\Psi_{0}> =  H|0>_{0}I|0>_{1} = \\Big[\\frac{1}{\\sqrt{2}} \\Big(|0>_{0} +  |1>_{0} \\Big) \\Big] |0>_{1}  = \\frac{1}{\\sqrt{2}} \\Big(|0>_{0}|0>_{1} +  |1>_{0}|0>_{1} \\Big) $$ \n",
    "\n",
    "Write this transformation with the states and gates that you have define:"
   ]
  },
  {
   "cell_type": "code",
   "execution_count": null,
   "id": "f9c1bba1-8736-4249-9112-f5286c3e62f4",
   "metadata": {},
   "outputs": [],
   "source": [
    "##################\n",
    "# YOUR CODE HERE #\n",
    "state_one = \n",
    "##################"
   ]
  },
  {
   "cell_type": "markdown",
   "id": "0c2df413-981f-4f1b-a1ad-e52a2c245298",
   "metadata": {},
   "source": [
    "The CNOT gate is apply to the state $|\\Psi_{1}>$\n",
    "\n",
    "$$|\\Psi_{2}> = CNOT_{01}|\\Psi_{1}> =  \\frac{1}{\\sqrt{2}} \\Big(CNOT_{01}|0>_{0}|0>_{1} +  CNOT_{01}|1>_{0}|0>_{1} \\Big) = \\frac{1}{\\sqrt{2}} \\Big(|0>_{0}|0>_{1} + |1>_{0}|1>_{1} \\Big)  $$ \n",
    "\n",
    "The result is a entangled state. One of the four bell states.\n",
    "\n",
    "Write this transformation with the states and gates that you have define:"
   ]
  },
  {
   "cell_type": "code",
   "execution_count": null,
   "id": "fbadd97c-2c3c-4931-ab5d-825b03f9dcf9",
   "metadata": {},
   "outputs": [],
   "source": [
    "##################\n",
    "# YOUR CODE HERE #\n",
    "state_two = \n",
    "##################"
   ]
  },
  {
   "cell_type": "markdown",
   "id": "86447e65-1db8-41c3-a6b1-d09c8f63fdfb",
   "metadata": {},
   "source": [
    "## Part III: Measurement and histogram"
   ]
  },
  {
   "cell_type": "markdown",
   "id": "f5b38c12-2f4d-4733-82de-e1c79efd161c",
   "metadata": {},
   "source": [
    "Measure the state multiple times:\n",
    "\n",
    "$$|\\Psi_{2}> = \\frac{1}{\\sqrt{2}} \\Big(|0>_{0}|0>_{1} + |1>_{0}|1>_{1} \\Big)  $$ \n",
    "\n",
    "and build an histogram with the results"
   ]
  },
  {
   "cell_type": "code",
   "execution_count": null,
   "id": "10e64670-2638-44f1-8bde-e17d9ecd1a76",
   "metadata": {},
   "outputs": [],
   "source": [
    "##################\n",
    "# YOUR CODE HERE #\n",
    "##################"
   ]
  },
  {
   "cell_type": "markdown",
   "id": "eff6ce1a-c333-48a7-bcb1-385e0a20767a",
   "metadata": {},
   "source": [
    "## Part IV: Bell states"
   ]
  },
  {
   "cell_type": "markdown",
   "id": "be61f94a-a7be-4616-af15-85c632e8a15b",
   "metadata": {},
   "source": [
    "The following four vectors make up a particular Ortonormal Basis in the space $H^{AB} = H_{2}^{A} \\otimes H_{2}^{B}$ of a 2-qubit vectors\n",
    "\n",
    "\n",
    "$$|\\Phi^{+} > =  \\frac{1}{\\sqrt{2}} \\Big( | 00 > + |11 > \\Big) $$\n",
    "\n",
    "$$|\\Phi^{-} > =  \\frac{1}{\\sqrt{2}} \\Big( | 00 > - |11 > \\Big) $$\n",
    "\n",
    "$$|\\Psi^{+} > =  \\frac{1}{\\sqrt{2}} \\Big( | 01 > + |10 > \\Big) $$\n",
    "\n",
    "$$|\\Psi^{-} > =  \\frac{1}{\\sqrt{2}} \\Big( | 01 > - |10 > \\Big) $$\n",
    "\n",
    "This basis plays a crucial role in many investigations. These frequently used Bell states are maximally entangled. "
   ]
  },
  {
   "cell_type": "markdown",
   "id": "098d0549-7e0d-4832-a497-c156c2e0b281",
   "metadata": {},
   "source": [
    "Modify the circuit used in part III to create all the bell states"
   ]
  },
  {
   "cell_type": "code",
   "execution_count": null,
   "id": "f93076a2-5c31-49e8-ad46-6e62b42ba9d4",
   "metadata": {},
   "outputs": [],
   "source": [
    "##################\n",
    "# YOUR CODE HERE #\n",
    "##################"
   ]
  },
  {
   "cell_type": "markdown",
   "id": "75340e85-1042-4bd3-9519-eb3fd1ec172e",
   "metadata": {},
   "source": [
    "With the gates and states that you have define build a quantum circuit that converts pairs of Bell states into pairs of Bell states."
   ]
  },
  {
   "cell_type": "code",
   "execution_count": null,
   "id": "ff4485e9-fdfa-4a97-be88-bc740f7a3c24",
   "metadata": {},
   "outputs": [],
   "source": [
    "##################\n",
    "# YOUR CODE HERE #\n",
    "##################"
   ]
  },
  {
   "cell_type": "markdown",
   "id": "d96871c4-5d1a-4600-8f1f-e6134d01551b",
   "metadata": {},
   "source": [
    "## Part IV: Bell measurement "
   ]
  },
  {
   "cell_type": "markdown",
   "id": "eb39d097-1457-4a85-a897-7dae9e17646d",
   "metadata": {},
   "source": [
    "Build a circuit that perfoms a measurment in the basis of the Bell states. More information *[here]( https://en.wikipedia.org/wiki/Bell_state#Bell_state_measurement)*"
   ]
  },
  {
   "cell_type": "code",
   "execution_count": null,
   "id": "71275c26-a121-4b98-97cc-0c31409f3272",
   "metadata": {},
   "outputs": [],
   "source": [
    "##################\n",
    "# YOUR CODE HERE #\n",
    "##################"
   ]
  },
  {
   "cell_type": "markdown",
   "id": "a7cba62a-3d02-400a-bc53-273db6474c67",
   "metadata": {},
   "source": [
    "## Part V: Entanglement swapping"
   ]
  },
  {
   "cell_type": "markdown",
   "id": "b598f975-bc00-48f1-addf-2012d85d008e",
   "metadata": {},
   "source": [
    "Entanglement swapping allows entangling two quantum systems that have never interacted before. Due to the protocol’s close relation to quantum teleportation, it is often referred to as teleportation of entanglement.\n",
    "\n",
    "For entanglement swapping, Alice prepares an entangled pair, for the state $|\\Phi^{+}>_{AC_{1}}$ and sends the $C_{1}$ member of the pair to Charlie. Bob also prepares an entangled state, for $|\\Phi^{+}>_{BC_{2}}$ and sends the $C_{2}$ member of the pair to Charlie. Once Charlie receives both members, one from Alice and one from Bob, he performs a Bell State Measurement on them. If the Measurement is successful, entanglement is swapped to particles $A$ and $B$, which are with Alice and Bob, respectively.\n",
    "\n",
    "**For this task you will need to read the first chapters of this** *[thesis](https://www.iqst.ca/media/pdf/publications/ucalgary_2017_valivarthi_venkataramanaraju.pdf)*\n",
    "\n",
    "With the gates and states that you have define build a circuit for Entanglement swapping"
   ]
  },
  {
   "cell_type": "code",
   "execution_count": null,
   "id": "52aeb816-9f7c-4a8b-86c0-f7541a452f1e",
   "metadata": {},
   "outputs": [],
   "source": [
    "##################\n",
    "# YOUR CODE HERE #\n",
    "##################"
   ]
  },
  {
   "cell_type": "markdown",
   "id": "7a2ad172-fe3b-4403-85fb-60b385055853",
   "metadata": {},
   "source": [
    "## Part VI: Implementation with a quantum library"
   ]
  },
  {
   "cell_type": "markdown",
   "id": "bea50d63-4346-4682-8d66-d8da31a8be43",
   "metadata": {},
   "source": [
    "Implement all the above task with any quantum library (Qiskit, pennylane, etc)"
   ]
  },
  {
   "cell_type": "code",
   "execution_count": null,
   "id": "7a165d3b-b6b5-4b85-831c-f482f0a62963",
   "metadata": {},
   "outputs": [],
   "source": [
    "##################\n",
    "# YOUR CODE HERE #\n",
    "##################"
   ]
  }
 ],
 "metadata": {
  "kernelspec": {
   "display_name": "Python 3 (ipykernel)",
   "language": "python",
   "name": "python3"
  },
  "language_info": {
   "codemirror_mode": {
    "name": "ipython",
    "version": 3
   },
   "file_extension": ".py",
   "mimetype": "text/x-python",
   "name": "python",
   "nbconvert_exporter": "python",
   "pygments_lexer": "ipython3",
   "version": "3.8.11"
  }
 },
 "nbformat": 4,
 "nbformat_minor": 5
}
